{
 "cells": [
  {
   "cell_type": "markdown",
   "metadata": {},
   "source": [
    "## Introduction"
   ]
  },
  {
   "cell_type": "markdown",
   "metadata": {},
   "source": [
    "This notebook analyses the chances of survival of Titanic passengers, based on their **socio-economic status** (taking ticket class as a proxy), **gender**, **age**, and **port of embarkation**.  \n",
    "\n",
    "The dataset we're using is named `titanic_data.csv` and its specifications are available [here](https://www.kaggle.com/c/titanic/data).  \n",
    "Our base dataset will have the following columns:  \n",
    "* `Pclass` - (ticket class)  \n",
    "* `Sex` - (gender)  \n",
    "* `Age` - (age)  \n",
    "* `embarked` - (port of embarkation)"
   ]
  },
  {
   "cell_type": "markdown",
   "metadata": {},
   "source": [
    "## Preparing the dataset for analysis"
   ]
  },
  {
   "cell_type": "code",
   "execution_count": 1,
   "metadata": {},
   "outputs": [
    {
     "data": {
      "text/plain": [
       "Index(['PassengerId', 'Survived', 'Pclass', 'Name', 'Sex', 'Age', 'SibSp',\n",
       "       'Parch', 'Ticket', 'Fare', 'Cabin', 'Embarked'],\n",
       "      dtype='object')"
      ]
     },
     "execution_count": 1,
     "metadata": {},
     "output_type": "execute_result"
    }
   ],
   "source": [
    "import pandas as pd\n",
    "import numpy as np\n",
    "\n",
    "df = pd.read_csv('data/titanic_data.csv')\n",
    "df.columns"
   ]
  },
  {
   "cell_type": "code",
   "execution_count": 2,
   "metadata": {},
   "outputs": [
    {
     "data": {
      "text/html": [
       "<div>\n",
       "<style>\n",
       "    .dataframe thead tr:only-child th {\n",
       "        text-align: right;\n",
       "    }\n",
       "\n",
       "    .dataframe thead th {\n",
       "        text-align: left;\n",
       "    }\n",
       "\n",
       "    .dataframe tbody tr th {\n",
       "        vertical-align: top;\n",
       "    }\n",
       "</style>\n",
       "<table border=\"1\" class=\"dataframe\">\n",
       "  <thead>\n",
       "    <tr style=\"text-align: right;\">\n",
       "      <th></th>\n",
       "      <th>PassengerId</th>\n",
       "      <th>Survived</th>\n",
       "      <th>Pclass</th>\n",
       "      <th>Name</th>\n",
       "      <th>Sex</th>\n",
       "      <th>Age</th>\n",
       "      <th>SibSp</th>\n",
       "      <th>Parch</th>\n",
       "      <th>Ticket</th>\n",
       "      <th>Fare</th>\n",
       "      <th>Cabin</th>\n",
       "      <th>Embarked</th>\n",
       "    </tr>\n",
       "  </thead>\n",
       "  <tbody>\n",
       "    <tr>\n",
       "      <th>0</th>\n",
       "      <td>1</td>\n",
       "      <td>0</td>\n",
       "      <td>3</td>\n",
       "      <td>Braund, Mr. Owen Harris</td>\n",
       "      <td>male</td>\n",
       "      <td>22.0</td>\n",
       "      <td>1</td>\n",
       "      <td>0</td>\n",
       "      <td>A/5 21171</td>\n",
       "      <td>7.2500</td>\n",
       "      <td>NaN</td>\n",
       "      <td>S</td>\n",
       "    </tr>\n",
       "    <tr>\n",
       "      <th>1</th>\n",
       "      <td>2</td>\n",
       "      <td>1</td>\n",
       "      <td>1</td>\n",
       "      <td>Cumings, Mrs. John Bradley (Florence Briggs Th...</td>\n",
       "      <td>female</td>\n",
       "      <td>38.0</td>\n",
       "      <td>1</td>\n",
       "      <td>0</td>\n",
       "      <td>PC 17599</td>\n",
       "      <td>71.2833</td>\n",
       "      <td>C85</td>\n",
       "      <td>C</td>\n",
       "    </tr>\n",
       "    <tr>\n",
       "      <th>2</th>\n",
       "      <td>3</td>\n",
       "      <td>1</td>\n",
       "      <td>3</td>\n",
       "      <td>Heikkinen, Miss. Laina</td>\n",
       "      <td>female</td>\n",
       "      <td>26.0</td>\n",
       "      <td>0</td>\n",
       "      <td>0</td>\n",
       "      <td>STON/O2. 3101282</td>\n",
       "      <td>7.9250</td>\n",
       "      <td>NaN</td>\n",
       "      <td>S</td>\n",
       "    </tr>\n",
       "    <tr>\n",
       "      <th>3</th>\n",
       "      <td>4</td>\n",
       "      <td>1</td>\n",
       "      <td>1</td>\n",
       "      <td>Futrelle, Mrs. Jacques Heath (Lily May Peel)</td>\n",
       "      <td>female</td>\n",
       "      <td>35.0</td>\n",
       "      <td>1</td>\n",
       "      <td>0</td>\n",
       "      <td>113803</td>\n",
       "      <td>53.1000</td>\n",
       "      <td>C123</td>\n",
       "      <td>S</td>\n",
       "    </tr>\n",
       "    <tr>\n",
       "      <th>4</th>\n",
       "      <td>5</td>\n",
       "      <td>0</td>\n",
       "      <td>3</td>\n",
       "      <td>Allen, Mr. William Henry</td>\n",
       "      <td>male</td>\n",
       "      <td>35.0</td>\n",
       "      <td>0</td>\n",
       "      <td>0</td>\n",
       "      <td>373450</td>\n",
       "      <td>8.0500</td>\n",
       "      <td>NaN</td>\n",
       "      <td>S</td>\n",
       "    </tr>\n",
       "  </tbody>\n",
       "</table>\n",
       "</div>"
      ],
      "text/plain": [
       "   PassengerId  Survived  Pclass  \\\n",
       "0            1         0       3   \n",
       "1            2         1       1   \n",
       "2            3         1       3   \n",
       "3            4         1       1   \n",
       "4            5         0       3   \n",
       "\n",
       "                                                Name     Sex   Age  SibSp  \\\n",
       "0                            Braund, Mr. Owen Harris    male  22.0      1   \n",
       "1  Cumings, Mrs. John Bradley (Florence Briggs Th...  female  38.0      1   \n",
       "2                             Heikkinen, Miss. Laina  female  26.0      0   \n",
       "3       Futrelle, Mrs. Jacques Heath (Lily May Peel)  female  35.0      1   \n",
       "4                           Allen, Mr. William Henry    male  35.0      0   \n",
       "\n",
       "   Parch            Ticket     Fare Cabin Embarked  \n",
       "0      0         A/5 21171   7.2500   NaN        S  \n",
       "1      0          PC 17599  71.2833   C85        C  \n",
       "2      0  STON/O2. 3101282   7.9250   NaN        S  \n",
       "3      0            113803  53.1000  C123        S  \n",
       "4      0            373450   8.0500   NaN        S  "
      ]
     },
     "execution_count": 2,
     "metadata": {},
     "output_type": "execute_result"
    }
   ],
   "source": [
    "df.head()"
   ]
  },
  {
   "cell_type": "markdown",
   "metadata": {},
   "source": [
    "Our DataFrame `df` is indexed with the default method. Let's use the `PassengerId` as an index instead."
   ]
  },
  {
   "cell_type": "code",
   "execution_count": 3,
   "metadata": {},
   "outputs": [
    {
     "data": {
      "text/html": [
       "<div>\n",
       "<style>\n",
       "    .dataframe thead tr:only-child th {\n",
       "        text-align: right;\n",
       "    }\n",
       "\n",
       "    .dataframe thead th {\n",
       "        text-align: left;\n",
       "    }\n",
       "\n",
       "    .dataframe tbody tr th {\n",
       "        vertical-align: top;\n",
       "    }\n",
       "</style>\n",
       "<table border=\"1\" class=\"dataframe\">\n",
       "  <thead>\n",
       "    <tr style=\"text-align: right;\">\n",
       "      <th></th>\n",
       "      <th>Survived</th>\n",
       "      <th>Pclass</th>\n",
       "      <th>Name</th>\n",
       "      <th>Sex</th>\n",
       "      <th>Age</th>\n",
       "      <th>SibSp</th>\n",
       "      <th>Parch</th>\n",
       "      <th>Ticket</th>\n",
       "      <th>Fare</th>\n",
       "      <th>Cabin</th>\n",
       "      <th>Embarked</th>\n",
       "    </tr>\n",
       "    <tr>\n",
       "      <th>PassengerId</th>\n",
       "      <th></th>\n",
       "      <th></th>\n",
       "      <th></th>\n",
       "      <th></th>\n",
       "      <th></th>\n",
       "      <th></th>\n",
       "      <th></th>\n",
       "      <th></th>\n",
       "      <th></th>\n",
       "      <th></th>\n",
       "      <th></th>\n",
       "    </tr>\n",
       "  </thead>\n",
       "  <tbody>\n",
       "    <tr>\n",
       "      <th>1</th>\n",
       "      <td>0</td>\n",
       "      <td>3</td>\n",
       "      <td>Braund, Mr. Owen Harris</td>\n",
       "      <td>male</td>\n",
       "      <td>22.0</td>\n",
       "      <td>1</td>\n",
       "      <td>0</td>\n",
       "      <td>A/5 21171</td>\n",
       "      <td>7.2500</td>\n",
       "      <td>NaN</td>\n",
       "      <td>S</td>\n",
       "    </tr>\n",
       "    <tr>\n",
       "      <th>2</th>\n",
       "      <td>1</td>\n",
       "      <td>1</td>\n",
       "      <td>Cumings, Mrs. John Bradley (Florence Briggs Th...</td>\n",
       "      <td>female</td>\n",
       "      <td>38.0</td>\n",
       "      <td>1</td>\n",
       "      <td>0</td>\n",
       "      <td>PC 17599</td>\n",
       "      <td>71.2833</td>\n",
       "      <td>C85</td>\n",
       "      <td>C</td>\n",
       "    </tr>\n",
       "    <tr>\n",
       "      <th>3</th>\n",
       "      <td>1</td>\n",
       "      <td>3</td>\n",
       "      <td>Heikkinen, Miss. Laina</td>\n",
       "      <td>female</td>\n",
       "      <td>26.0</td>\n",
       "      <td>0</td>\n",
       "      <td>0</td>\n",
       "      <td>STON/O2. 3101282</td>\n",
       "      <td>7.9250</td>\n",
       "      <td>NaN</td>\n",
       "      <td>S</td>\n",
       "    </tr>\n",
       "    <tr>\n",
       "      <th>4</th>\n",
       "      <td>1</td>\n",
       "      <td>1</td>\n",
       "      <td>Futrelle, Mrs. Jacques Heath (Lily May Peel)</td>\n",
       "      <td>female</td>\n",
       "      <td>35.0</td>\n",
       "      <td>1</td>\n",
       "      <td>0</td>\n",
       "      <td>113803</td>\n",
       "      <td>53.1000</td>\n",
       "      <td>C123</td>\n",
       "      <td>S</td>\n",
       "    </tr>\n",
       "    <tr>\n",
       "      <th>5</th>\n",
       "      <td>0</td>\n",
       "      <td>3</td>\n",
       "      <td>Allen, Mr. William Henry</td>\n",
       "      <td>male</td>\n",
       "      <td>35.0</td>\n",
       "      <td>0</td>\n",
       "      <td>0</td>\n",
       "      <td>373450</td>\n",
       "      <td>8.0500</td>\n",
       "      <td>NaN</td>\n",
       "      <td>S</td>\n",
       "    </tr>\n",
       "  </tbody>\n",
       "</table>\n",
       "</div>"
      ],
      "text/plain": [
       "             Survived  Pclass  \\\n",
       "PassengerId                     \n",
       "1                   0       3   \n",
       "2                   1       1   \n",
       "3                   1       3   \n",
       "4                   1       1   \n",
       "5                   0       3   \n",
       "\n",
       "                                                          Name     Sex   Age  \\\n",
       "PassengerId                                                                    \n",
       "1                                      Braund, Mr. Owen Harris    male  22.0   \n",
       "2            Cumings, Mrs. John Bradley (Florence Briggs Th...  female  38.0   \n",
       "3                                       Heikkinen, Miss. Laina  female  26.0   \n",
       "4                 Futrelle, Mrs. Jacques Heath (Lily May Peel)  female  35.0   \n",
       "5                                     Allen, Mr. William Henry    male  35.0   \n",
       "\n",
       "             SibSp  Parch            Ticket     Fare Cabin Embarked  \n",
       "PassengerId                                                          \n",
       "1                1      0         A/5 21171   7.2500   NaN        S  \n",
       "2                1      0          PC 17599  71.2833   C85        C  \n",
       "3                0      0  STON/O2. 3101282   7.9250   NaN        S  \n",
       "4                1      0            113803  53.1000  C123        S  \n",
       "5                0      0            373450   8.0500   NaN        S  "
      ]
     },
     "execution_count": 3,
     "metadata": {},
     "output_type": "execute_result"
    }
   ],
   "source": [
    "df = df.set_index(['PassengerId'])\n",
    "df.head()"
   ]
  },
  {
   "cell_type": "markdown",
   "metadata": {},
   "source": [
    "Let's also check `df` for missing values in the columns we're interested in, and let's then decide what to do with them."
   ]
  },
  {
   "cell_type": "code",
   "execution_count": 4,
   "metadata": {
    "collapsed": true
   },
   "outputs": [],
   "source": [
    "def get_nan_count(column):\n",
    "    '''\n",
    "    column - the column for which we want the NaN value count.\n",
    "    This function returns the number of NaN values in a specific column.\n",
    "    '''\n",
    "    nan_count = column.isnull().sum()\n",
    "    return nan_count"
   ]
  },
  {
   "cell_type": "code",
   "execution_count": 5,
   "metadata": {},
   "outputs": [
    {
     "data": {
      "text/plain": [
       "0"
      ]
     },
     "execution_count": 5,
     "metadata": {},
     "output_type": "execute_result"
    }
   ],
   "source": [
    "get_nan_count(df['Survived'])"
   ]
  },
  {
   "cell_type": "code",
   "execution_count": 6,
   "metadata": {},
   "outputs": [
    {
     "data": {
      "text/plain": [
       "0"
      ]
     },
     "execution_count": 6,
     "metadata": {},
     "output_type": "execute_result"
    }
   ],
   "source": [
    "get_nan_count(df['Pclass'])"
   ]
  },
  {
   "cell_type": "code",
   "execution_count": 7,
   "metadata": {},
   "outputs": [
    {
     "data": {
      "text/plain": [
       "0"
      ]
     },
     "execution_count": 7,
     "metadata": {},
     "output_type": "execute_result"
    }
   ],
   "source": [
    "get_nan_count(df['Sex'])"
   ]
  },
  {
   "cell_type": "code",
   "execution_count": 8,
   "metadata": {},
   "outputs": [
    {
     "data": {
      "text/plain": [
       "177"
      ]
     },
     "execution_count": 8,
     "metadata": {},
     "output_type": "execute_result"
    }
   ],
   "source": [
    "get_nan_count(df['Age'])"
   ]
  },
  {
   "cell_type": "code",
   "execution_count": 9,
   "metadata": {},
   "outputs": [
    {
     "data": {
      "text/plain": [
       "2"
      ]
     },
     "execution_count": 9,
     "metadata": {},
     "output_type": "execute_result"
    }
   ],
   "source": [
    "get_nan_count(df['Embarked'])"
   ]
  },
  {
   "cell_type": "markdown",
   "metadata": {
    "collapsed": true
   },
   "source": [
    "Overall, our analysis will not have to deal with missing values for Ticket Class and Sex. We will ignore the missing values for the Age and Embarked columns.  \n",
    "The Age column having 177 null values over 891 passengers, the results might be a little less reliable."
   ]
  },
  {
   "cell_type": "markdown",
   "metadata": {},
   "source": [
    "## Exploring and analyzing the data"
   ]
  },
  {
   "cell_type": "markdown",
   "metadata": {},
   "source": [
    "Because we're looking at survival rates with 4 different factors, we should define a function that facilitates getting these rates."
   ]
  },
  {
   "cell_type": "code",
   "execution_count": 10,
   "metadata": {
    "collapsed": true
   },
   "outputs": [],
   "source": [
    "survivor_count = df['Survived'].sum()\n",
    "\n",
    "def get_survival_rate(dataframe, factor):\n",
    "    '''\n",
    "    df - the dataframe on which to apply the analysis\n",
    "    factor - the factor / column for which we want the survival rate. Should be of type string.\n",
    "    This function takes in a column and returns the survival rate of Titanic passengers according to this factor.\n",
    "    '''\n",
    "    by_factor = dataframe.groupby(factor)\n",
    "    count_by_factor = by_factor['Survived'].sum()\n",
    "    survival_rate = count_by_factor / survivor_count * 100\n",
    "    print('Survival rates:', survival_rate, '\\n \\n', 'Counts: ', count_by_factor)\n",
    "    return survival_rate, count_by_factor"
   ]
  },
  {
   "cell_type": "markdown",
   "metadata": {},
   "source": [
    "## Correlation between survival and ticket class"
   ]
  },
  {
   "cell_type": "markdown",
   "metadata": {},
   "source": [
    "First, let's see how socio-economic status, proxied with the ticket class, impacted survival.  \n",
    "  \n",
    "Before anything, we should get a rough idea of how the ticket classes were divided in the total of passengers."
   ]
  },
  {
   "cell_type": "code",
   "execution_count": 11,
   "metadata": {
    "collapsed": true
   },
   "outputs": [],
   "source": [
    "total_passenger_count = len(df['Pclass'])\n",
    "first_class_count = (df['Pclass'] == 1).sum()\n",
    "second_class_count = (df['Pclass'] == 2).sum()\n",
    "third_class_count = (df['Pclass'] == 3).sum()\n",
    "\n",
    "per_first_class =  first_class_count / total_passenger_count * 100\n",
    "per_second_class = second_class_count / total_passenger_count * 100\n",
    "per_third_class = third_class_count / total_passenger_count * 100"
   ]
  },
  {
   "cell_type": "code",
   "execution_count": 12,
   "metadata": {},
   "outputs": [
    {
     "name": "stdout",
     "output_type": "stream",
     "text": [
      "First class percentage =  24.2424242424  | Count:  216\n",
      "Second class percentage =  20.6509539843  | Count:  184\n",
      "Third class percentage =  55.1066217733  | Count:  491\n"
     ]
    }
   ],
   "source": [
    "print('First class percentage = ', per_first_class, ' | Count: ', first_class_count)\n",
    "print('Second class percentage = ', per_second_class, ' | Count: ', second_class_count)\n",
    "print('Third class percentage = ', per_third_class, ' | Count: ', third_class_count)"
   ]
  },
  {
   "cell_type": "markdown",
   "metadata": {},
   "source": [
    "We see that:  \n",
    "* the first class represents about a quarter of the passengers on board (≈ 24%)  \n",
    "* the second class represents a little less than a quarter of the passengers on board (≈ 20%)  \n",
    "* the third class represents more than half of the passengers onboard (≈ 55%)"
   ]
  },
  {
   "cell_type": "markdown",
   "metadata": {},
   "source": [
    "Let's now compare these percentages with the survival ones."
   ]
  },
  {
   "cell_type": "code",
   "execution_count": 13,
   "metadata": {},
   "outputs": [
    {
     "name": "stdout",
     "output_type": "stream",
     "text": [
      "Survival rates: Pclass\n",
      "1    39.766082\n",
      "2    25.438596\n",
      "3    34.795322\n",
      "Name: Survived, dtype: float64 \n",
      " \n",
      " Counts:  Pclass\n",
      "1    136\n",
      "2     87\n",
      "3    119\n",
      "Name: Survived, dtype: int64\n"
     ]
    },
    {
     "data": {
      "text/plain": [
       "(Pclass\n",
       " 1    39.766082\n",
       " 2    25.438596\n",
       " 3    34.795322\n",
       " Name: Survived, dtype: float64, Pclass\n",
       " 1    136\n",
       " 2     87\n",
       " 3    119\n",
       " Name: Survived, dtype: int64)"
      ]
     },
     "execution_count": 13,
     "metadata": {},
     "output_type": "execute_result"
    }
   ],
   "source": [
    "get_survival_rate(df, 'Pclass')"
   ]
  },
  {
   "cell_type": "markdown",
   "metadata": {},
   "source": [
    "With these survival rates, we can see that:\n",
    "* The first class represents ≈ 24% of the passengers, but ≈ 40% of the survivors\n",
    "* The second class represents ≈ 20% of the passengers, but ≈ 25% of the survivors\n",
    "* The third class representes ≈ 55% of the passengers, but ≈ 34% of the survivors"
   ]
  },
  {
   "cell_type": "markdown",
   "metadata": {},
   "source": [
    "Let's **visualize** these results to get a better understanding.  \n",
    "Precisely, let's see how survival and death rates evolve according to ticket class, in **absolute count** and **percentage**.  \n",
    "We're first going to define a function `get_counts` that allows us to get the precise count of deaths and survivals according to a specific quality. We will reuse this function throughout our analysis (except for our age anaysis)."
   ]
  },
  {
   "cell_type": "code",
   "execution_count": 14,
   "metadata": {
    "collapsed": true
   },
   "outputs": [],
   "source": [
    "def get_counts(dataframe, factor, quality, status):\n",
    "    '''\n",
    "    dataframe - the dataframe on which to apply the function (e.g. 'df' for the Titanic dataframe)\n",
    "    factor - the column on which to perform the analysis (e.g. 'Pclass' for the ticket class)\n",
    "    quality - the quality on which to perform the analysis (e.g '3' for the third class)\n",
    "    status - the status you want to count: survival or death. Should be a Boolean (1 for survival, 0 for death).\n",
    "    '''\n",
    "    target = dataframe[factor].where(dataframe[factor] == quality)\n",
    "    class_count = target.where(dataframe['Survived'] == status).count()\n",
    "    return class_count"
   ]
  },
  {
   "cell_type": "code",
   "execution_count": 15,
   "metadata": {
    "collapsed": true
   },
   "outputs": [],
   "source": [
    "class1_survival_count = get_counts(df, 'Pclass', 1, 1)\n",
    "class2_survival_count = get_counts(df, 'Pclass', 2, 1)\n",
    "class3_survival_count = get_counts(df, 'Pclass', 3, 1)\n",
    "class1_death_count = get_counts(df, 'Pclass', 1, 0)\n",
    "class2_death_count = get_counts(df, 'Pclass', 2, 0)\n",
    "class3_death_count = get_counts(df, 'Pclass', 3, 0)"
   ]
  },
  {
   "cell_type": "code",
   "execution_count": 16,
   "metadata": {},
   "outputs": [
    {
     "name": "stdout",
     "output_type": "stream",
     "text": [
      "SURVIVAL COUNT BY CLASS\n",
      "First class survival count: 136\n",
      "Second class survival count: 87\n",
      "Third class survival count: 119\n",
      "\n",
      "CASUALTIES COUNT BY CLASS\n",
      "First class death count: 80\n",
      "Second class death count: 97\n",
      "Third class death count: 372\n"
     ]
    }
   ],
   "source": [
    "print('SURVIVAL COUNT BY CLASS')\n",
    "print('First class survival count:', class1_survival_count)\n",
    "print('Second class survival count:', class2_survival_count)\n",
    "print('Third class survival count:', class3_survival_count)\n",
    "print('\\nCASUALTIES COUNT BY CLASS')\n",
    "print('First class death count:', class1_death_count)\n",
    "print('Second class death count:', class2_death_count)\n",
    "print('Third class death count:', class3_death_count)"
   ]
  },
  {
   "cell_type": "code",
   "execution_count": 44,
   "metadata": {
    "collapsed": true
   },
   "outputs": [],
   "source": [
    "import matplotlib.pyplot as plt\n",
    "import seaborn as sns\n",
    "\n",
    "def gen_plot(survival_array, death_array, by_factor, x_ticks):\n",
    "    \"\"\"\n",
    "    survival_array: a list providing the survival data being analyzed (eg. [class1_survival_count, class2_survival_count, class3_survival_count])\n",
    "    death_array: a list providing the death data being analyzed (eg. [class1_death_count, class2_death_count, class3_death_count])\n",
    "    by_title: the factor that is the focus of the analysis (eg. 'by ticket class')\n",
    "    x_ticks: (eg. ['First class', 'Second class', 'Third class'])\n",
    "    \"\"\"\n",
    "    \n",
    "    abs_survival_list = np.array(survival_array)\n",
    "    abs_death_list = np.array(death_array)\n",
    "    N = len(abs_survival_list)\n",
    "    ind = np.arange(N)\n",
    "    width = 1 / N\n",
    "\n",
    "    f, (ax1, ax2) = plt.subplots(1, 2, figsize=(10,5))\n",
    "\n",
    "\n",
    "    # Absolute count\n",
    "    ax1.bar(ind, abs_survival_list, width, label='Survival', alpha=0.8)\n",
    "    ax1.bar(ind, abs_death_list, width, color='#d62728', label='Death', alpha=0.8, bottom=abs_survival_list)\n",
    "\n",
    "    plt.sca(ax1)\n",
    "    plt.xticks(ind, x_ticks)\n",
    "\n",
    "    ax1.set_title('Absolute count ' + by_factor)\n",
    "    ax1.set_ylabel('Count')\n",
    "    ax1.legend(loc='upper left')\n",
    "\n",
    "    plt.setp(plt.gca().get_xticklabels(), rotation=45)\n",
    "\n",
    "\n",
    "    # Percentage\n",
    "    per_survival_list = (abs_survival_list / (abs_survival_list + abs_death_list)) * 100\n",
    "    per_death_list = (abs_death_list / (abs_survival_list + abs_death_list)) * 100\n",
    "\n",
    "    ax2.bar(ind, per_survival_list, width, label='Survival percentage', alpha=0.8)\n",
    "    ax2.bar(ind, per_death_list, width, color='#d62728', label='Death percentage', alpha=0.8, bottom=per_survival_list)\n",
    "\n",
    "    plt.sca(ax2)\n",
    "    plt.xticks(ind, x_ticks)\n",
    "\n",
    "    ax2.set_title('Percentage ' + by_factor)\n",
    "    ax2.set_ylabel('Percentage')\n",
    "\n",
    "    plt.setp(plt.gca().get_xticklabels(), rotation=45)\n",
    "\n",
    "    return plt.show()"
   ]
  },
  {
   "cell_type": "code",
   "execution_count": 18,
   "metadata": {},
   "outputs": [
    {
     "data": {
      "image/png": "[encoded data removed]",
      "text/plain": [
       "<matplotlib.figure.Figure at 0x1109f5128>"
      ]
     },
     "metadata": {},
     "output_type": "display_data"
    }
   ],
   "source": [
    "gen_plot([class1_survival_count, class2_survival_count, class3_survival_count],\n",
    "         [class1_death_count, class2_death_count, class3_death_count],\n",
    "         'by ticket class',\n",
    "         ['First class', 'Second class', 'Third class'])"
   ]
  },
  {
   "cell_type": "markdown",
   "metadata": {},
   "source": [
    "We can see that there is a clear correlation between death and ticket class: the higher your ticket class, the higher your chances of survival."
   ]
  },
  {
   "cell_type": "markdown",
   "metadata": {},
   "source": [
    "## Correlation between survival and gender"
   ]
  },
  {
   "cell_type": "markdown",
   "metadata": {},
   "source": [
    "Let's now analyze what impact gender had on chances or survival.\n",
    "First, we're going to define a function similar to the one we used for ticket class, to get the count of survivals and deaths by gender."
   ]
  },
  {
   "cell_type": "code",
   "execution_count": 19,
   "metadata": {
    "collapsed": true
   },
   "outputs": [],
   "source": [
    "female_survival_count = get_counts(df, 'Sex', 'female', 1)\n",
    "male_survival_count = get_counts(df, 'Sex', 'male', 1)\n",
    "female_death_count = get_counts(df, 'Sex', 'female', 0)\n",
    "male_death_count = get_counts(df, 'Sex', 'male', 0)"
   ]
  },
  {
   "cell_type": "code",
   "execution_count": 20,
   "metadata": {},
   "outputs": [
    {
     "name": "stdout",
     "output_type": "stream",
     "text": [
      "SURVIVAL COUNT BY GENDER\n",
      "Female survival count:  233\n",
      "Male survival count:  109\n",
      "\n",
      "CASUALTIES COUNT BY GENDER\n",
      "Female death count:  81\n",
      "Male death count:  468\n"
     ]
    }
   ],
   "source": [
    "print('SURVIVAL COUNT BY GENDER')\n",
    "print('Female survival count: ', female_survival_count)\n",
    "print('Male survival count: ', male_survival_count)\n",
    "print('\\nCASUALTIES COUNT BY GENDER')\n",
    "print('Female death count: ', female_death_count)\n",
    "print('Male death count: ', male_death_count)"
   ]
  },
  {
   "cell_type": "markdown",
   "metadata": {},
   "source": [
    "Let's now visualize the data."
   ]
  },
  {
   "cell_type": "code",
   "execution_count": 21,
   "metadata": {},
   "outputs": [
    {
     "data": {
      "image/png": "[encoded data removed]",
      "text/plain": [
       "<matplotlib.figure.Figure at 0x116300470>"
      ]
     },
     "metadata": {},
     "output_type": "display_data"
    }
   ],
   "source": [
    "gen_plot([female_survival_count, male_survival_count],\n",
    "         [female_death_count, male_death_count],\n",
    "         'by gender',\n",
    "         ['Female', 'Male'])"
   ]
  },
  {
   "cell_type": "markdown",
   "metadata": {},
   "source": [
    "Let's put a number on this.  \n",
    "First, we need to create a new DataFrame where we will replace non-int values: `female` will be 1 and `male` will be 0."
   ]
  },
  {
   "cell_type": "code",
   "execution_count": 22,
   "metadata": {},
   "outputs": [
    {
     "name": "stderr",
     "output_type": "stream",
     "text": [
      "/Users/hadrien/anaconda3/lib/python3.6/site-packages/ipykernel_launcher.py:2: SettingWithCopyWarning: \n",
      "A value is trying to be set on a copy of a slice from a DataFrame\n",
      "\n",
      "See the caveats in the documentation: http://pandas.pydata.org/pandas-docs/stable/indexing.html#indexing-view-versus-copy\n",
      "  \n"
     ]
    },
    {
     "data": {
      "text/html": [
       "<div>\n",
       "<style>\n",
       "    .dataframe thead tr:only-child th {\n",
       "        text-align: right;\n",
       "    }\n",
       "\n",
       "    .dataframe thead th {\n",
       "        text-align: left;\n",
       "    }\n",
       "\n",
       "    .dataframe tbody tr th {\n",
       "        vertical-align: top;\n",
       "    }\n",
       "</style>\n",
       "<table border=\"1\" class=\"dataframe\">\n",
       "  <thead>\n",
       "    <tr style=\"text-align: right;\">\n",
       "      <th></th>\n",
       "      <th>Sex</th>\n",
       "      <th>Survived</th>\n",
       "    </tr>\n",
       "  </thead>\n",
       "  <tbody>\n",
       "    <tr>\n",
       "      <th>Sex</th>\n",
       "      <td>1.000000</td>\n",
       "      <td>0.543351</td>\n",
       "    </tr>\n",
       "    <tr>\n",
       "      <th>Survived</th>\n",
       "      <td>0.543351</td>\n",
       "      <td>1.000000</td>\n",
       "    </tr>\n",
       "  </tbody>\n",
       "</table>\n",
       "</div>"
      ],
      "text/plain": [
       "               Sex  Survived\n",
       "Sex       1.000000  0.543351\n",
       "Survived  0.543351  1.000000"
      ]
     },
     "execution_count": 22,
     "metadata": {},
     "output_type": "execute_result"
    }
   ],
   "source": [
    "gender_df = df[['Sex', 'Survived']]\n",
    "gender_df.replace(['male', 'female'], [0, 1], inplace=True)\n",
    "\n",
    "gender_df[['Sex', 'Survived']].corr(method='pearson')"
   ]
  },
  {
   "cell_type": "markdown",
   "metadata": {},
   "source": [
    "According to our analysis, there's a moderate correlation between survival and gender."
   ]
  },
  {
   "cell_type": "markdown",
   "metadata": {},
   "source": [
    "## Correlation between survival and age"
   ]
  },
  {
   "cell_type": "markdown",
   "metadata": {},
   "source": [
    "### Linear regression analysis"
   ]
  },
  {
   "cell_type": "markdown",
   "metadata": {},
   "source": [
    "Now we're going to study the impact of age on chances of survival.  \n",
    "We're going to look at the survival rates of children, compared to older people.  \n",
    "Remember that we have 177 `NaN` (Not a Number) values here. In other words, we're going to have to cut our data by 20%. This is not ideal and you should always try to find a solution to save as many datum as possible, but in cases like this one we don't really have a choice.  "
   ]
  },
  {
   "cell_type": "markdown",
   "metadata": {},
   "source": [
    "First, let's get rid of `NaN`\n",
    " values."
   ]
  },
  {
   "cell_type": "code",
   "execution_count": 23,
   "metadata": {},
   "outputs": [
    {
     "data": {
      "text/plain": [
       "(714, 2)"
      ]
     },
     "execution_count": 23,
     "metadata": {},
     "output_type": "execute_result"
    }
   ],
   "source": [
    "df_age = df[['Age' , 'Survived']].dropna(how='any')\n",
    "df_age['Age'] = (np.floor(df_age['Age'])).astype(int)\n",
    "df_age.shape"
   ]
  },
  {
   "cell_type": "code",
   "execution_count": 24,
   "metadata": {},
   "outputs": [
    {
     "data": {
      "text/html": [
       "<div>\n",
       "<style>\n",
       "    .dataframe thead tr:only-child th {\n",
       "        text-align: right;\n",
       "    }\n",
       "\n",
       "    .dataframe thead th {\n",
       "        text-align: left;\n",
       "    }\n",
       "\n",
       "    .dataframe tbody tr th {\n",
       "        vertical-align: top;\n",
       "    }\n",
       "</style>\n",
       "<table border=\"1\" class=\"dataframe\">\n",
       "  <thead>\n",
       "    <tr style=\"text-align: right;\">\n",
       "      <th></th>\n",
       "      <th>Age</th>\n",
       "      <th>Survived</th>\n",
       "    </tr>\n",
       "    <tr>\n",
       "      <th>PassengerId</th>\n",
       "      <th></th>\n",
       "      <th></th>\n",
       "    </tr>\n",
       "  </thead>\n",
       "  <tbody>\n",
       "    <tr>\n",
       "      <th>1</th>\n",
       "      <td>22</td>\n",
       "      <td>0</td>\n",
       "    </tr>\n",
       "    <tr>\n",
       "      <th>2</th>\n",
       "      <td>38</td>\n",
       "      <td>1</td>\n",
       "    </tr>\n",
       "    <tr>\n",
       "      <th>3</th>\n",
       "      <td>26</td>\n",
       "      <td>1</td>\n",
       "    </tr>\n",
       "    <tr>\n",
       "      <th>4</th>\n",
       "      <td>35</td>\n",
       "      <td>1</td>\n",
       "    </tr>\n",
       "    <tr>\n",
       "      <th>5</th>\n",
       "      <td>35</td>\n",
       "      <td>0</td>\n",
       "    </tr>\n",
       "  </tbody>\n",
       "</table>\n",
       "</div>"
      ],
      "text/plain": [
       "             Age  Survived\n",
       "PassengerId               \n",
       "1             22         0\n",
       "2             38         1\n",
       "3             26         1\n",
       "4             35         1\n",
       "5             35         0"
      ]
     },
     "execution_count": 24,
     "metadata": {},
     "output_type": "execute_result"
    }
   ],
   "source": [
    "df_age.head()"
   ]
  },
  {
   "cell_type": "markdown",
   "metadata": {},
   "source": [
    "We counted **177** missing values.  \n",
    "After deleting them, we get a new dataframe `df_age` with **714** rows."
   ]
  },
  {
   "cell_type": "code",
   "execution_count": 25,
   "metadata": {},
   "outputs": [
    {
     "name": "stdout",
     "output_type": "stream",
     "text": [
      "Yougest passenger: 0 months old\n",
      "\n",
      "Oldest passenger: 80 years old\n"
     ]
    }
   ],
   "source": [
    "print('Yougest passenger: ' + str(df_age['Age'].min() * 12) + ' months old')\n",
    "print('\\nOldest passenger: ' + str(df_age['Age'].max()) + ' years old')"
   ]
  },
  {
   "cell_type": "markdown",
   "metadata": {},
   "source": [
    "We rounded the ages up for the sake of this analysis, so the youngest passenger on board was a few months old, and the oldest was 80 years old.  \n",
    "Now let' order our data and create a new DataFrame `df_ages_survival`. It will `Age` indexed. Four each age, 4 columns will give us the following information:\n",
    "- Number of passengers of index age that survived\n",
    "- Number of passengers of index age that died\n",
    "- Total number of passengers of index age\n",
    "- Percentage of survivors of that index age"
   ]
  },
  {
   "cell_type": "code",
   "execution_count": 26,
   "metadata": {},
   "outputs": [
    {
     "data": {
      "text/plain": [
       "array([ 0,  1,  2,  3,  4,  5,  6,  7,  8,  9, 10, 11, 12, 13, 14, 15, 16,\n",
       "       17, 18, 19, 20, 21, 22, 23, 24, 25, 26, 27, 28, 29, 30, 31, 32, 33,\n",
       "       34, 35, 36, 37, 38, 39, 40, 41, 42, 43, 44, 45, 46, 47, 48, 49, 50,\n",
       "       51, 52, 53, 54, 55, 56, 57, 58, 59, 60, 61, 62, 63, 64, 65, 66, 70,\n",
       "       71, 74, 80])"
      ]
     },
     "execution_count": 26,
     "metadata": {},
     "output_type": "execute_result"
    }
   ],
   "source": [
    "ages_list = df_age['Age'].unique()\n",
    "ages_list.sort()\n",
    "ages_list"
   ]
  },
  {
   "cell_type": "code",
   "execution_count": 27,
   "metadata": {},
   "outputs": [
    {
     "data": {
      "text/html": [
       "<div>\n",
       "<style>\n",
       "    .dataframe thead tr:only-child th {\n",
       "        text-align: right;\n",
       "    }\n",
       "\n",
       "    .dataframe thead th {\n",
       "        text-align: left;\n",
       "    }\n",
       "\n",
       "    .dataframe tbody tr th {\n",
       "        vertical-align: top;\n",
       "    }\n",
       "</style>\n",
       "<table border=\"1\" class=\"dataframe\">\n",
       "  <thead>\n",
       "    <tr style=\"text-align: right;\">\n",
       "      <th></th>\n",
       "      <th>Survived</th>\n",
       "      <th>Deaths</th>\n",
       "      <th>Total</th>\n",
       "      <th>Percentage</th>\n",
       "    </tr>\n",
       "  </thead>\n",
       "  <tbody>\n",
       "    <tr>\n",
       "      <th>0</th>\n",
       "      <td>7</td>\n",
       "      <td>0</td>\n",
       "      <td>7</td>\n",
       "      <td>100.00</td>\n",
       "    </tr>\n",
       "    <tr>\n",
       "      <th>1</th>\n",
       "      <td>5</td>\n",
       "      <td>2</td>\n",
       "      <td>7</td>\n",
       "      <td>71.43</td>\n",
       "    </tr>\n",
       "    <tr>\n",
       "      <th>2</th>\n",
       "      <td>3</td>\n",
       "      <td>7</td>\n",
       "      <td>10</td>\n",
       "      <td>30.00</td>\n",
       "    </tr>\n",
       "    <tr>\n",
       "      <th>3</th>\n",
       "      <td>5</td>\n",
       "      <td>1</td>\n",
       "      <td>6</td>\n",
       "      <td>83.33</td>\n",
       "    </tr>\n",
       "    <tr>\n",
       "      <th>4</th>\n",
       "      <td>7</td>\n",
       "      <td>3</td>\n",
       "      <td>10</td>\n",
       "      <td>70.00</td>\n",
       "    </tr>\n",
       "  </tbody>\n",
       "</table>\n",
       "</div>"
      ],
      "text/plain": [
       "   Survived  Deaths  Total  Percentage\n",
       "0         7       0      7      100.00\n",
       "1         5       2      7       71.43\n",
       "2         3       7     10       30.00\n",
       "3         5       1      6       83.33\n",
       "4         7       3     10       70.00"
      ]
     },
     "execution_count": 27,
     "metadata": {},
     "output_type": "execute_result"
    }
   ],
   "source": [
    "df_ages_survival = pd.DataFrame(index=ages_list, columns=['Survived', 'Deaths', 'Total', 'Percentage'])\n",
    "\n",
    "df_ages_survival['Survived'] = df_age.groupby('Age')['Survived'].sum()\n",
    "df_ages_survival['Total'] = df_age.groupby('Age').count()\n",
    "df_ages_survival['Deaths'] = df_ages_survival['Total'] - df_ages_survival['Survived']\n",
    "df_ages_survival['Percentage'] = round((df_ages_survival['Survived'] / df_ages_survival['Total']) * 100, 2)\n",
    "\n",
    "# for age in ages_list:\n",
    "#     df_ages_survival.loc[age]['Survived'] = (df_age['Age'] == age).where(df_age['Survived'] == 1).sum()\n",
    "#     df_ages_survival.loc[age]['Total'] = (df_age['Age'] == age).sum()\n",
    "#     df_ages_survival.loc[age]['Deaths'] = df_ages_survival.loc[age]['Total'] - df_ages_survival.loc[age]['Survived']\n",
    "#     df_ages_survival.loc[age]['Percentage'] = (df_ages_survival.loc[age]['Survived'] / df_ages_survival.loc[age]['Total']) * 100\n",
    "#     \n",
    "# df_ages_survival.head()\n",
    "\n",
    "df_ages_survival.head()"
   ]
  },
  {
   "cell_type": "markdown",
   "metadata": {},
   "source": [
    "Let's take a look at a scatter plot of our data, and see if we can identify any outliers."
   ]
  },
  {
   "cell_type": "code",
   "execution_count": 28,
   "metadata": {},
   "outputs": [
    {
     "data": {
      "image/png": "[encoded data removed]",
      "text/plain": [
       "<matplotlib.figure.Figure at 0x1164d96d8>"
      ]
     },
     "metadata": {},
     "output_type": "display_data"
    }
   ],
   "source": [
    "x = df_ages_survival['Percentage'].index\n",
    "y = df_ages_survival['Percentage']\n",
    "plt.scatter(x, y)\n",
    "m, b = np.polyfit(x, y, 1)\n",
    "plt.plot(x, y, '.')\n",
    "plt.title('Survival rates by age')\n",
    "plt.xlabel('Age in years')\n",
    "plt.ylabel('Percentage of survivors')\n",
    "plt.show()"
   ]
  },
  {
   "cell_type": "markdown",
   "metadata": {},
   "source": [
    "We can identify a tendency where the lower y values have high x coordinates, and high y values have low x coordinates. This means that apparently, the younger you are, the more chances you have to survive.  \n",
    "\n",
    "However, there are three dots on the upper right side of the graph that seem to be outliers. They are not representative of the general tendency: let's identify them, remove them from the DataFrame, plot it again and fit a regression line."
   ]
  },
  {
   "cell_type": "code",
   "execution_count": 29,
   "metadata": {},
   "outputs": [
    {
     "data": {
      "image/png": "[encoded data removed]",
      "text/plain": [
       "<matplotlib.figure.Figure at 0x11079d240>"
      ]
     },
     "metadata": {},
     "output_type": "display_data"
    }
   ],
   "source": [
    "df_ages_survival = df_ages_survival.drop(df_ages_survival[(df_ages_survival['Percentage'] == 100) & (df_ages_survival.index > 50)].index)\n",
    "x = df_ages_survival['Percentage'].index\n",
    "y = df_ages_survival['Percentage']\n",
    "plt.scatter(x, y)\n",
    "m, b = np.polyfit(x, y, 1)\n",
    "plt.plot(x, y, '.')\n",
    "plt.plot(x, m*x + b, '-')\n",
    "plt.title('Survival rates by age')\n",
    "plt.xlabel('Age in years')\n",
    "plt.ylabel('Percentage of survivors')\n",
    "plt.show()"
   ]
  },
  {
   "cell_type": "markdown",
   "metadata": {},
   "source": [
    "The regression line clearly shows that the younger you were, the higher your chances to survive."
   ]
  },
  {
   "cell_type": "markdown",
   "metadata": {},
   "source": [
    "### Specific age analysis"
   ]
  },
  {
   "cell_type": "markdown",
   "metadata": {},
   "source": [
    "We're going to carry on and strengthen our analysis by bringing more light on two specific ages, so that we also have a benchmark. We will use a bar chart.\n",
    "\n",
    "We will analyze ages 6 and 12, but you can change the `age` argument in the function we're going to define with the age of your choice.  \n",
    "\n",
    "Below is a new function similar to `get_counts`. It will fit the `inferior or equal` condition of our analysis and return the survival and death counts for both configurations, taking a user defined `age` as an argument."
   ]
  },
  {
   "cell_type": "code",
   "execution_count": 30,
   "metadata": {
    "collapsed": true
   },
   "outputs": [],
   "source": [
    "def get_age_counts(age):\n",
    "    '''\n",
    "    age - the age limit on which to apply the analysis\n",
    "    This function returns, in order, the survival count for people under or equal to the age specified and people older than the age specified,\n",
    "    and the death count people under or equal to the age specified and people older than the age specified.\n",
    "    '''\n",
    "    younger_target = df['Age'].where(df['Age'] <= age)\n",
    "    older_target = df['Age'].where(df['Age'] > age)\n",
    "    younger_survival_count = younger_target.where(df['Survived'] == 1).count()\n",
    "    older_survival_count = older_target.where(df['Survived'] == 1).count()\n",
    "    younger_death_count = younger_target.where(df['Survived'] == 0).count()\n",
    "    older_death_count = older_target.where(df['Survived'] == 0).count()\n",
    "    return younger_survival_count, older_survival_count, younger_death_count, older_death_count"
   ]
  },
  {
   "cell_type": "code",
   "execution_count": 31,
   "metadata": {},
   "outputs": [
    {
     "name": "stdout",
     "output_type": "stream",
     "text": [
      "AGE LIMIT = 6\n",
      "Survival count for children up to 6:  33\n",
      "Survival count for people over 6:  257\n",
      "Death count for children up to 6:  14\n",
      "Death count for people over 6:  410\n",
      "\n",
      "AGE LIMIT = 12\n",
      "Survival count for children up to 12:  40\n",
      "Survival count for people over 12:  250\n",
      "Death count for children up to 12:  29\n",
      "Death count for people over 12:  395\n"
     ]
    }
   ],
   "source": [
    "up_to_6_survival_count, over_6_survival_count, up_to_6_death_count, over_6_death_count = get_age_counts(6)\n",
    "up_to_12_survival_count, over_12_survival_count, up_to_12_death_count, over_12_death_count = get_age_counts(12)\n",
    "\n",
    "print('AGE LIMIT = 6')\n",
    "print('Survival count for children up to 6: ', up_to_6_survival_count)\n",
    "print('Survival count for people over 6: ', over_6_survival_count)\n",
    "print('Death count for children up to 6: ', up_to_6_death_count)\n",
    "print('Death count for people over 6: ', over_6_death_count)\n",
    "\n",
    "print('\\nAGE LIMIT = 12')\n",
    "print('Survival count for children up to 12: ', up_to_12_survival_count)\n",
    "print('Survival count for people over 12: ', over_12_survival_count)\n",
    "print('Death count for children up to 12: ', up_to_12_death_count)\n",
    "print('Death count for people over 12: ', over_12_death_count)"
   ]
  },
  {
   "cell_type": "markdown",
   "metadata": {},
   "source": [
    "Now we're ready to build our bar charts.\n",
    "Looking at the graphs, our _over 6_ and _over 12_ counts and percentages will probably look identical.\n"
   ]
  },
  {
   "cell_type": "code",
   "execution_count": 32,
   "metadata": {},
   "outputs": [
    {
     "data": {
      "image/png": "[encoded data removed]",
      "text/plain": [
       "<matplotlib.figure.Figure at 0x116328e10>"
      ]
     },
     "metadata": {},
     "output_type": "display_data"
    }
   ],
   "source": [
    "# Plot for age 6\n",
    "gen_plot([up_to_6_survival_count, over_6_survival_count],\n",
    "         [up_to_6_death_count, over_6_death_count],\n",
    "         '- 6 years old',\n",
    "         ['Up to 6', 'Over 6'])"
   ]
  },
  {
   "cell_type": "code",
   "execution_count": 33,
   "metadata": {},
   "outputs": [
    {
     "data": {
      "image/png": "[encoded data removed]",
      "text/plain": [
       "<matplotlib.figure.Figure at 0x116649940>"
      ]
     },
     "metadata": {},
     "output_type": "display_data"
    }
   ],
   "source": [
    "# Plot for age 12\n",
    "gen_plot([up_to_12_survival_count, over_12_survival_count],\n",
    "         [up_to_12_death_count, over_12_death_count],\n",
    "         '- 12 years old',\n",
    "         ['Up to 12', 'Over 12'])"
   ]
  },
  {
   "cell_type": "markdown",
   "metadata": {},
   "source": [
    "It would seem that children up to 6 years old had a higher chance of survival than people over 6 years old.  \n",
    "It would also seem that children up to 12 years old had a higher chance of survival than people over 12 years old, but lower than people up to 6 years old.\n",
    "\n",
    "This comforts our first hypothesis: the younger you were, the higher your chances to survive."
   ]
  },
  {
   "cell_type": "markdown",
   "metadata": {},
   "source": [
    "## Correlation between survival and port of embarkation"
   ]
  },
  {
   "cell_type": "markdown",
   "metadata": {},
   "source": [
    "Our final analysis will look at chances of survival based on the port of embarkation.  \n",
    "Titanic passengers embarked form three different ports:\n",
    "- Cherbourg (C)\n",
    "- Queenstown (Q)\n",
    "- Southampton (S)"
   ]
  },
  {
   "cell_type": "markdown",
   "metadata": {},
   "source": [
    "Before anything, we should get a rough idea of how the ticket classes were divided in the total of passengers."
   ]
  },
  {
   "cell_type": "code",
   "execution_count": 35,
   "metadata": {
    "collapsed": true
   },
   "outputs": [],
   "source": [
    "total_passenger_count = len(df['Embarked'])\n",
    "cherbourg_count = (df['Embarked'] == 'C').sum()\n",
    "queenstown_count = (df['Embarked'] == 'Q').sum()\n",
    "southampton_count = (df['Embarked'] == 'S').sum()\n",
    "\n",
    "per_cherbourg =  cherbourg_count / total_passenger_count * 100\n",
    "per_queenstown = queenstown_count / total_passenger_count * 100\n",
    "per_southampton = southampton_count / total_passenger_count * 100"
   ]
  },
  {
   "cell_type": "code",
   "execution_count": 36,
   "metadata": {},
   "outputs": [
    {
     "name": "stdout",
     "output_type": "stream",
     "text": [
      "Cherbourg percentage =  18.8552188552  | Count:  168\n",
      "Queenstown percentage =  8.64197530864  | Count:  77\n",
      "Southampton percentage =  72.278338945  | Count:  644\n"
     ]
    }
   ],
   "source": [
    "print('Cherbourg percentage = ', per_cherbourg, ' | Count: ', cherbourg_count)\n",
    "print('Queenstown percentage = ', per_queenstown, ' | Count: ', queenstown_count)\n",
    "print('Southampton percentage = ', per_southampton, ' | Count: ', southampton_count)"
   ]
  },
  {
   "cell_type": "markdown",
   "metadata": {},
   "source": [
    "We see that:  \n",
    "* ≈ 19% of the passengers embarked from Cherbourg\n",
    "* ≈ 9% of the passengers embarked from Queenstown\n",
    "* ≈ 72% of the passengers embarked from Southampton"
   ]
  },
  {
   "cell_type": "code",
   "execution_count": 37,
   "metadata": {},
   "outputs": [
    {
     "name": "stdout",
     "output_type": "stream",
     "text": [
      "Survival rates: Embarked\n",
      "C    27.192982\n",
      "Q     8.771930\n",
      "S    63.450292\n",
      "Name: Survived, dtype: float64 \n",
      " \n",
      " Counts:  Embarked\n",
      "C     93\n",
      "Q     30\n",
      "S    217\n",
      "Name: Survived, dtype: int64\n"
     ]
    },
    {
     "data": {
      "text/plain": [
       "(Embarked\n",
       " C    27.192982\n",
       " Q     8.771930\n",
       " S    63.450292\n",
       " Name: Survived, dtype: float64, Embarked\n",
       " C     93\n",
       " Q     30\n",
       " S    217\n",
       " Name: Survived, dtype: int64)"
      ]
     },
     "execution_count": 37,
     "metadata": {},
     "output_type": "execute_result"
    }
   ],
   "source": [
    "get_survival_rate(df, 'Embarked')"
   ]
  },
  {
   "cell_type": "markdown",
   "metadata": {},
   "source": [
    "With these survival rates, we can see that:\n",
    "* Passengers from Cherbourg made up about 19% of the headcount, but about 27% of the survivors\n",
    "* Passengers from Queenstown made up about 9% of the headcount, and about 9% of the survivors\n",
    "* Passengers from Southampton made up about 72% of the headcount, and about 63% of the survivors"
   ]
  },
  {
   "cell_type": "markdown",
   "metadata": {},
   "source": [
    "Let's **visualize** these results to get a better understanding.  \n",
    "Precisely, let's see how survival and death rates evolve according to port of embarkation, in **absolute count** and **percentage**. We'll use the `get_counts` function once more."
   ]
  },
  {
   "cell_type": "code",
   "execution_count": 38,
   "metadata": {
    "collapsed": true
   },
   "outputs": [],
   "source": [
    "cherbourg_survival_count = get_counts(df, 'Embarked', 'C', 1)\n",
    "queenstown_survival_count = get_counts(df, 'Embarked', 'Q', 1)\n",
    "southampton_survival_count = get_counts(df, 'Embarked', 'S', 1)\n",
    "cherbourg_death_count = get_counts(df, 'Embarked', 'C', 0)\n",
    "queenstown_death_count = get_counts(df, 'Embarked', 'Q', 0)\n",
    "southampton_death_count = get_counts(df, 'Embarked', 'S', 0)"
   ]
  },
  {
   "cell_type": "code",
   "execution_count": 39,
   "metadata": {},
   "outputs": [
    {
     "name": "stdout",
     "output_type": "stream",
     "text": [
      "SURVIVAL COUNT BY PORT OF EMBARKATION\n",
      "Cherbourg survival count: 93\n",
      "Queenstown class survival count: 30\n",
      "Southampton survival count: 217\n",
      "\n",
      "CASUALTIES COUNT BY PORT OF EMBARKATION\n",
      "Cherbourg death count: 75\n",
      "Queenstown death count: 47\n",
      "Southampton death count: 427\n"
     ]
    }
   ],
   "source": [
    "print('SURVIVAL COUNT BY PORT OF EMBARKATION')\n",
    "print('Cherbourg survival count:', cherbourg_survival_count)\n",
    "print('Queenstown class survival count:', queenstown_survival_count)\n",
    "print('Southampton survival count:', southampton_survival_count)\n",
    "print('\\nCASUALTIES COUNT BY PORT OF EMBARKATION')\n",
    "print('Cherbourg death count:', cherbourg_death_count)\n",
    "print('Queenstown death count:', queenstown_death_count)\n",
    "print('Southampton death count:', southampton_death_count)"
   ]
  },
  {
   "cell_type": "code",
   "execution_count": 40,
   "metadata": {},
   "outputs": [
    {
     "data": {
      "image/png": "[encoded data removed]",
      "text/plain": [
       "<matplotlib.figure.Figure at 0x116201eb8>"
      ]
     },
     "metadata": {},
     "output_type": "display_data"
    }
   ],
   "source": [
    "gen_plot([cherbourg_survival_count, queenstown_survival_count, southampton_survival_count],\n",
    "         [cherbourg_death_count, queenstown_death_count, southampton_death_count],\n",
    "         'by port of embarkation',\n",
    "         ['Cherbourg', 'Queenstown', 'Southampton'])"
   ]
  },
  {
   "cell_type": "markdown",
   "metadata": {},
   "source": [
    "I don't suppose women and children were over represented in either port of embarkation. We can make two hypotheses then:\n",
    "* Passengers from Cherbourg tended to have higher class tickets, and passengers from Southampton lower class tickets\n",
    "* Passengers from Southampton had cabins located closer to the impact, or further from the deck  \n",
    "\n",
    "We can test the first hypothesis (class distribution)."
   ]
  },
  {
   "cell_type": "code",
   "execution_count": 42,
   "metadata": {
    "collapsed": true
   },
   "outputs": [],
   "source": [
    "# Cherbourg distribution per class\n",
    "cherbourg_df = df[df['Embarked'] == 'C']\n",
    "southampton_df = df[df['Embarked'] == 'S']\n",
    "\n",
    "count_cherbourg_first = (cherbourg_df['Pclass'] == 1).sum()\n",
    "count_cherbourg_second = (cherbourg_df['Pclass'] == 2).sum()\n",
    "count_cherbourg_third = (cherbourg_df['Pclass'] == 3).sum()\n",
    "\n",
    "per_cherbourg_first = count_cherbourg_first / cherbourg_count * 100\n",
    "per_cherbourg_second = count_cherbourg_second / cherbourg_count * 100\n",
    "per_cherbourg_third = count_cherbourg_third / cherbourg_count * 100\n",
    "\n",
    "\n",
    "# Southampton distribution per class\n",
    "count_southampton_first = (southampton_df['Pclass'] == 1).sum()\n",
    "count_southampton_second = (southampton_df['Pclass'] == 2).sum()\n",
    "count_southampton_third = (southampton_df['Pclass'] == 3).sum()\n",
    "\n",
    "per_southampton_first = count_southampton_first / southampton_count * 100\n",
    "per_southampton_second = count_southampton_second / southampton_count * 100\n",
    "per_southampton_third = count_southampton_third / southampton_count * 100"
   ]
  },
  {
   "cell_type": "code",
   "execution_count": 43,
   "metadata": {},
   "outputs": [
    {
     "name": "stdout",
     "output_type": "stream",
     "text": [
      "Cherbourg first class percentage =  50.5952380952\n",
      "Cherbourg second class percentage =  10.119047619\n",
      "Cherbourg third class percentage =  39.2857142857\n",
      "\n",
      "Southampton first class percentage =  19.7204968944\n",
      "Southampton second class percentage =  25.4658385093\n",
      "Southampton third class percentage =  54.8136645963\n"
     ]
    }
   ],
   "source": [
    "print('Cherbourg first class percentage = ', per_cherbourg_first)\n",
    "print('Cherbourg second class percentage = ', per_cherbourg_second)\n",
    "print('Cherbourg third class percentage = ', per_cherbourg_third)\n",
    "\n",
    "print('\\nSouthampton first class percentage = ', per_southampton_first)\n",
    "print('Southampton second class percentage = ', per_southampton_second)\n",
    "print('Southampton third class percentage = ', per_southampton_third)"
   ]
  },
  {
   "cell_type": "markdown",
   "metadata": {},
   "source": [
    "It looks like our first hypothesis was right:\n",
    "- about 50% of the passengers from Cherbourg were first class\n",
    "- about 55% of the passengers from Southampton were second class  \n",
    "\n",
    "This explains why the survival rate is higher for Cherbourg passengers than from Southampton passengers."
   ]
  },
  {
   "cell_type": "markdown",
   "metadata": {},
   "source": [
    "## Conclusion\n",
    "\n",
    "From this analysis, we can confidently say that passengers had higher chances of survival if:\n",
    "- they had a high class ticket\n",
    "- they were women\n",
    "- they were young\n",
    "- they embarked from Cherbourg\n",
    "\n",
    "On the contrary, being a third class old man from Southampton lowered your chances of survival."
   ]
  }
 ],
 "metadata": {
  "kernelspec": {
   "display_name": "Python 3",
   "language": "python",
   "name": "python3"
  },
  "language_info": {
   "codemirror_mode": {
    "name": "ipython",
    "version": 3
   },
   "file_extension": ".py",
   "mimetype": "text/x-python",
   "name": "python",
   "nbconvert_exporter": "python",
   "pygments_lexer": "ipython3",
   "version": "3.6.0"
  }
 },
 "nbformat": 4,
 "nbformat_minor": 2
}
